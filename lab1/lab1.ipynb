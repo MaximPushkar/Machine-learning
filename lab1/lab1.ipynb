{
 "cells": [
  {
   "cell_type": "markdown",
   "id": "8a23b619-3dcd-41c4-b7c5-c066bd62044c",
   "metadata": {},
   "source": [
    "## Лабораторна робота 1 \n",
    "#### Пушкар Максим, Варіант 11"
   ]
  },
  {
   "cell_type": "code",
   "execution_count": 3,
   "id": "6d7f2c9b-4dad-41cc-9206-9535cffc24af",
   "metadata": {},
   "outputs": [],
   "source": [
    "import pandas as pd\n",
    "import numpy as np\n",
    "import matplotlib.pyplot as plt"
   ]
  },
  {
   "cell_type": "markdown",
   "id": "6fd21637-d2a3-472d-a193-6f96eb400707",
   "metadata": {},
   "source": [
    "Файл з даними: Medicare.csv"
   ]
  },
  {
   "cell_type": "code",
   "execution_count": 4,
   "id": "ffec9e25-4f6c-472c-aa34-7a4b8ae4d943",
   "metadata": {},
   "outputs": [
    {
     "data": {
      "text/html": [
       "<div>\n",
       "<style scoped>\n",
       "    .dataframe tbody tr th:only-of-type {\n",
       "        vertical-align: middle;\n",
       "    }\n",
       "\n",
       "    .dataframe tbody tr th {\n",
       "        vertical-align: top;\n",
       "    }\n",
       "\n",
       "    .dataframe thead th {\n",
       "        text-align: right;\n",
       "    }\n",
       "</style>\n",
       "<table border=\"1\" class=\"dataframe\">\n",
       "  <thead>\n",
       "    <tr style=\"text-align: right;\">\n",
       "      <th></th>\n",
       "      <th>STATE</th>\n",
       "      <th>YEAR</th>\n",
       "      <th>TOT_CHG</th>\n",
       "      <th>COV_CHG</th>\n",
       "      <th>MED_REIB</th>\n",
       "      <th>TOT_D</th>\n",
       "      <th>NUM_DCHG</th>\n",
       "      <th>AVE_T_D</th>\n",
       "      <th>NMSTATE</th>\n",
       "    </tr>\n",
       "  </thead>\n",
       "  <tbody>\n",
       "    <tr>\n",
       "      <th>0</th>\n",
       "      <td>1</td>\n",
       "      <td>1</td>\n",
       "      <td>2211617271</td>\n",
       "      <td>2170240349</td>\n",
       "      <td>972752944</td>\n",
       "      <td>1932673</td>\n",
       "      <td>230015</td>\n",
       "      <td>8</td>\n",
       "      <td>AL</td>\n",
       "    </tr>\n",
       "    <tr>\n",
       "      <th>1</th>\n",
       "      <td>1</td>\n",
       "      <td>2</td>\n",
       "      <td>2523987347</td>\n",
       "      <td>2468263759</td>\n",
       "      <td>1046016144</td>\n",
       "      <td>1936939</td>\n",
       "      <td>234739</td>\n",
       "      <td>8</td>\n",
       "      <td>AL</td>\n",
       "    </tr>\n",
       "    <tr>\n",
       "      <th>2</th>\n",
       "      <td>1</td>\n",
       "      <td>3</td>\n",
       "      <td>2975969979</td>\n",
       "      <td>2922611694</td>\n",
       "      <td>1205791592</td>\n",
       "      <td>2016354</td>\n",
       "      <td>245027</td>\n",
       "      <td>8</td>\n",
       "      <td>AL</td>\n",
       "    </tr>\n",
       "    <tr>\n",
       "      <th>3</th>\n",
       "      <td>1</td>\n",
       "      <td>4</td>\n",
       "      <td>3194595003</td>\n",
       "      <td>3149745611</td>\n",
       "      <td>1307982985</td>\n",
       "      <td>1948427</td>\n",
       "      <td>243947</td>\n",
       "      <td>8</td>\n",
       "      <td>AL</td>\n",
       "    </tr>\n",
       "    <tr>\n",
       "      <th>4</th>\n",
       "      <td>1</td>\n",
       "      <td>5</td>\n",
       "      <td>3417704863</td>\n",
       "      <td>3384305357</td>\n",
       "      <td>1376211788</td>\n",
       "      <td>1926335</td>\n",
       "      <td>258384</td>\n",
       "      <td>7</td>\n",
       "      <td>AL</td>\n",
       "    </tr>\n",
       "  </tbody>\n",
       "</table>\n",
       "</div>"
      ],
      "text/plain": [
       "   STATE  YEAR     TOT_CHG     COV_CHG    MED_REIB    TOT_D  NUM_DCHG  \\\n",
       "0      1     1  2211617271  2170240349   972752944  1932673    230015   \n",
       "1      1     2  2523987347  2468263759  1046016144  1936939    234739   \n",
       "2      1     3  2975969979  2922611694  1205791592  2016354    245027   \n",
       "3      1     4  3194595003  3149745611  1307982985  1948427    243947   \n",
       "4      1     5  3417704863  3384305357  1376211788  1926335    258384   \n",
       "\n",
       "   AVE_T_D NMSTATE  \n",
       "0        8      AL  \n",
       "1        8      AL  \n",
       "2        8      AL  \n",
       "3        8      AL  \n",
       "4        7      AL  "
      ]
     },
     "execution_count": 4,
     "metadata": {},
     "output_type": "execute_result"
    }
   ],
   "source": [
    "data = pd.read_csv(\"Medicare.csv\")\n",
    "data.head()"
   ]
  },
  {
   "cell_type": "markdown",
   "id": "aa5a327d-5678-4563-9985-833a5bb98cbf",
   "metadata": {},
   "source": [
    "Вiдгук: COV_CHG\n",
    "\n",
    "Регресори: TOT_CHG, MED_REIB, TOT_D, NUM_DCHG, AVE_T_D\n",
    "\n",
    "Зформуємо дані:"
   ]
  },
  {
   "cell_type": "code",
   "execution_count": 5,
   "id": "d79e3e73-9354-4b7a-86ee-c2e79c48d7a3",
   "metadata": {},
   "outputs": [],
   "source": [
    "y = data[\"COV_CHG\"]\n",
    "x = data[[\"TOT_CHG\", \"MED_REIB\", \"TOT_D\", \"NUM_DCHG\", \"AVE_T_D\"]]"
   ]
  },
  {
   "cell_type": "markdown",
   "id": "4da282c0-a6ae-4a65-a3e5-1fb4eb0d1cf9",
   "metadata": {},
   "source": [
    "Будуємо матрицю кореляції між регресорами"
   ]
  },
  {
   "cell_type": "code",
   "execution_count": 6,
   "id": "fe59a248-80f0-4d99-96ca-efd84805ce1d",
   "metadata": {},
   "outputs": [
    {
     "data": {
      "image/png": "[encoded data removed]",
      "text/plain": [
       "<Figure size 432x288 with 2 Axes>"
      ]
     },
     "metadata": {
      "needs_background": "light"
     },
     "output_type": "display_data"
    }
   ],
   "source": [
    "# https://datatofish.com/correlation-matrix-pandas/\n",
    "corrMatrix = x.corr()\n",
    "\n",
    "import seaborn as sn\n",
    "sn.heatmap(corrMatrix, annot=True, vmin=-1)\n",
    "plt.show()"
   ]
  },
  {
   "cell_type": "markdown",
   "id": "3c0fb75d-02f5-4cb3-876e-92e3cf6b8cd1",
   "metadata": {},
   "source": [
    "Можна бачити, що перші 4 параметри є дуже залежними один від одного, а останній має порівняно невелику кореляцію з кожним із інших параметрів."
   ]
  },
  {
   "cell_type": "markdown",
   "id": "393e5079-7b71-4475-9ff2-232298fd14b3",
   "metadata": {},
   "source": [
    "Спостерігаючи цю сильну залежність, додамо у матрицю ще й відгук,\n",
    "щоб подивитися його кореляцію з регресорами."
   ]
  },
  {
   "cell_type": "code",
   "execution_count": 7,
   "id": "10c69965-f5e1-4999-8b3d-0e34b3f331b1",
   "metadata": {},
   "outputs": [
    {
     "data": {
      "image/png": "[encoded data removed]",
      "text/plain": [
       "<Figure size 432x288 with 2 Axes>"
      ]
     },
     "metadata": {
      "needs_background": "light"
     },
     "output_type": "display_data"
    }
   ],
   "source": [
    "corrMatrix_1 = data[[\"COV_CHG\", \"TOT_CHG\", \"MED_REIB\", \"TOT_D\", \"NUM_DCHG\", \"AVE_T_D\"]].corr()\n",
    "\n",
    "sn.heatmap(corrMatrix_1, annot=True, vmin=-1)\n",
    "plt.show()"
   ]
  },
  {
   "cell_type": "markdown",
   "id": "054351ee-4efe-4257-8969-84fc88885e03",
   "metadata": {},
   "source": [
    "Отримали дуже велику кореляцію відгуку з кожним із регресорів (крім останнього), а з першим регресором кореляція взагалі дорівнює 1. Тому можна очікувати, що TOT_CHG буде найважливішим регресором. Якщо перейти за посиланням, та подивитися на суть даних, звідки вони взяті, то це буде мати ще більше сенсу."
   ]
  },
  {
   "cell_type": "markdown",
   "id": "ea4d7b99-fcfa-4028-8a3f-94a1e57f5d85",
   "metadata": {
    "tags": []
   },
   "source": [
    "#### ОНК"
   ]
  },
  {
   "cell_type": "code",
   "execution_count": 8,
   "id": "7d8284fd-e9d4-4238-983a-0a44b4a39eba",
   "metadata": {},
   "outputs": [],
   "source": [
    "# https://www.kdnuggets.com/2019/03/beginners-guide-linear-regression-python-scikit-learn.html"
   ]
  },
  {
   "cell_type": "code",
   "execution_count": 9,
   "id": "46a9c0f0-f0ff-4dcc-86c8-a6aecd8e95a8",
   "metadata": {},
   "outputs": [],
   "source": [
    "# поділ на тестову та тренувальну у пропорцiх 20% та 80%\n",
    "from sklearn.model_selection import train_test_split\n",
    "X_train, X_test, y_train, y_test = train_test_split(x, y, test_size=0.2, random_state=0)"
   ]
  },
  {
   "cell_type": "code",
   "execution_count": 10,
   "id": "1b83506a-98e2-4fda-ac34-00da5478492e",
   "metadata": {},
   "outputs": [],
   "source": [
    "# будуємо ОНК\n",
    "from sklearn.linear_model import LinearRegression\n",
    "regressor = LinearRegression()  \n",
    "regressor.fit(X_train, y_train)\n",
    "\n",
    "y_pred = regressor.predict(X_test)"
   ]
  },
  {
   "cell_type": "code",
   "execution_count": 11,
   "id": "5fc55967-3296-42da-ae77-4966974943c4",
   "metadata": {},
   "outputs": [
    {
     "data": {
      "image/png": "[encoded data removed]",
      "text/plain": [
       "<Figure size 720x432 with 1 Axes>"
      ]
     },
     "metadata": {
      "needs_background": "light"
     },
     "output_type": "display_data"
    }
   ],
   "source": [
    "# print(np.shape(y_test), np.shape(y_pred))\n",
    "#plt.scatter(X_test, y_test,  color='gray')\n",
    "#plt.plot(X_test, y_pred, color='red', linewidth=2)\n",
    "#plt.show()\n",
    "\n",
    "# В багатовимірному випадку немає можливості побудувати графік з осями X та y, \n",
    "# тому зобразимо залежність y_test та y_pred\n",
    "\n",
    "plt.rcParams['figure.figsize'] = (10, 6)\n",
    "plt.scatter(y_test, y_pred, color='gray')\n",
    "plt.plot([0, max(y_test)], [0, max(y_test)], color='black', linewidth=2)\n",
    "plt.xlabel(\"y_test\")\n",
    "plt.ylabel(\"y_pred\")\n",
    "\n",
    "plt.show()"
   ]
  },
  {
   "cell_type": "code",
   "execution_count": 20,
   "id": "2341a5cb-60ba-4d13-b72d-ba8a9aefe509",
   "metadata": {},
   "outputs": [
    {
     "name": "stdout",
     "output_type": "stream",
     "text": [
      "0.9998177385446197\n",
      "2124119007285158.5\n",
      "27550111.616482083\n",
      "\n",
      "[ 9.75073557e-01 -6.93704251e-02 -1.26361259e+02  1.63190264e+03\n",
      "  1.78757554e+06]\n"
     ]
    }
   ],
   "source": [
    "# перевіряємо якість моделі\n",
    "from sklearn.metrics import r2_score, mean_squared_error, mean_absolute_error\n",
    "r2 = r2_score(y_test, y_pred)\n",
    "mean_sq_error = (mean_squared_error(y_test, y_pred))\n",
    "mean_error = mean_absolute_error(y_test, y_pred)\n",
    "print(r2)\n",
    "print(mean_sq_error)\n",
    "print(mean_error)\n",
    "print()\n",
    "print(regressor.coef_)"
   ]
  },
  {
   "cell_type": "markdown",
   "id": "aa5a021c-868e-40b4-adea-b2cbad9a47f2",
   "metadata": {},
   "source": [
    "Отримали значення $R^2$ настільки близьке до 1, наскільки це взагалі практично можливо (на тестовій вибірці)\n",
    "\n",
    "Відхилення виявились великими, але порівняно з величиною даних вони є досить нормальними."
   ]
  },
  {
   "cell_type": "markdown",
   "id": "de9e48b7-f955-40cf-9289-dd9d570f7ec8",
   "metadata": {},
   "source": [
    "#### F-тест:"
   ]
  },
  {
   "cell_type": "code",
   "execution_count": 13,
   "id": "88137683-6f98-47d8-a129-c1b1c62ee45e",
   "metadata": {},
   "outputs": [],
   "source": [
    "# https://machinelearningmastery.com/feature-selection-with-numerical-input-data/"
   ]
  },
  {
   "cell_type": "code",
   "execution_count": 15,
   "id": "bc10d65d-8eb3-425c-bcda-7ba23482db0b",
   "metadata": {},
   "outputs": [
    {
     "name": "stdout",
     "output_type": "stream",
     "text": [
      "Feature 0: 134994.292772\n",
      "Feature 1: 4974.562160\n",
      "Feature 2: 722.854162\n",
      "Feature 3: 3999.254887\n",
      "Feature 4: 1.108785\n"
     ]
    },
    {
     "data": {
      "image/png": "[encoded data removed]",
      "text/plain": [
       "<Figure size 720x432 with 1 Axes>"
      ]
     },
     "metadata": {
      "needs_background": "light"
     },
     "output_type": "display_data"
    }
   ],
   "source": [
    "from sklearn.feature_selection import SelectKBest, f_regression\n",
    "\n",
    "fs = SelectKBest(f_regression, k=3)\n",
    "fs.fit(X_train, y_train)\n",
    "X_train_fs = fs.transform(X_train)\n",
    "X_test_fs = fs.transform(X_test)\n",
    "\n",
    "for i in range(len(fs.scores_)):\n",
    "\tprint('Feature %d: %f' % (i, fs.scores_[i]))\n",
    "\n",
    "plt.bar([i for i in range(len(fs.scores_))], fs.scores_)\n",
    "plt.show()"
   ]
  },
  {
   "cell_type": "markdown",
   "id": "800e046b-2406-40eb-96a0-a2e46c68d790",
   "metadata": {},
   "source": [
    "Очевидно, 1й регресор має найбільший вплив (про що було написано вище), 2й та 4й також мають порівняно великий вплив. Якщо залишити лише ці регресори, то матимемо наступний результат:"
   ]
  },
  {
   "cell_type": "code",
   "execution_count": 21,
   "id": "e31009da-3076-4221-8ad3-aba01a42c072",
   "metadata": {},
   "outputs": [
    {
     "name": "stdout",
     "output_type": "stream",
     "text": [
      "0.9993695529608199\n",
      "7347382013466891.0\n",
      "50061959.2984247\n",
      "\n",
      "[ 1.08327382e+00 -3.84808630e-01  9.96466596e+02]\n"
     ]
    }
   ],
   "source": [
    "from sklearn.linear_model import LinearRegression\n",
    "regressor_fs = LinearRegression()  \n",
    "regressor_fs.fit(X_train_fs, y_train)\n",
    "\n",
    "y_pred_fs = regressor_1.predict(X_test_fs)\n",
    "\n",
    "r2_fs = r2_score(y_test, y_pred_fs)\n",
    "mean_sq_error_fs = mean_squared_error(y_test, y_pred_fs)\n",
    "mean_error_fs = mean_absolute_error(y_test, y_pred_fs)\n",
    "print(r2_fs)\n",
    "print(mean_sq_error_fs)\n",
    "print(mean_error_fs)\n",
    "print()\n",
    "print(regressor_fs.coef_)"
   ]
  },
  {
   "cell_type": "markdown",
   "id": "20653faf-8121-4647-a139-47d65a4c0633",
   "metadata": {},
   "source": [
    "Бачимо, що значення $R^2$ змінилось незначно, лише в 4му знаку після коми. Але дисперсія сильно зросла. Середнє відхилення зросло майже вдвічі."
   ]
  },
  {
   "cell_type": "markdown",
   "id": "469764e0-75b9-452e-9486-8f89768fc764",
   "metadata": {},
   "source": [
    "#### Гребенева регресія "
   ]
  },
  {
   "cell_type": "code",
   "execution_count": 17,
   "id": "85c2c7bc-332e-4ac6-a25f-b47a10fcf3d4",
   "metadata": {},
   "outputs": [],
   "source": [
    "# https://machinelearningmastery.com/ridge-regression-with-python/\n",
    "from sklearn.linear_model import Ridge"
   ]
  },
  {
   "cell_type": "code",
   "execution_count": 18,
   "id": "f60e1e90-8d66-4ad3-be8e-e4d708bce1f3",
   "metadata": {},
   "outputs": [],
   "source": [
    "alpha_list = [0.5, 1, 5, 10, 100]"
   ]
  },
  {
   "cell_type": "code",
   "execution_count": 22,
   "id": "f60a22e3-73dc-4aff-8235-c84b2e02f9a4",
   "metadata": {},
   "outputs": [
    {
     "name": "stdout",
     "output_type": "stream",
     "text": [
      "2124119007285158.5\n",
      "Ridge(alpha=0.5)\n",
      "r2_score = 0.9998178166904943\n",
      "mean squared error = 2123208276394653.8\n",
      "\n",
      "Ridge(alpha=1)\n",
      "r2_score = 0.9998178162875935\n",
      "mean squared error = 2123212971899212.2\n",
      "\n",
      "Ridge(alpha=5)\n",
      "r2_score = 0.9998178130681868\n",
      "mean squared error = 2123250491640532.8\n",
      "\n",
      "Ridge(alpha=10)\n",
      "r2_score = 0.9998178090534079\n",
      "mean squared error = 2123297280843588.2\n",
      "\n",
      "Ridge(alpha=100)\n",
      "r2_score = 0.9998177385446197\n",
      "mean squared error = 2124119007285158.5\n",
      "\n"
     ]
    },
    {
     "name": "stderr",
     "output_type": "stream",
     "text": [
      "C:\\Users\\MAXIM\\AppData\\Local\\Programs\\Python\\Python310\\lib\\site-packages\\sklearn\\linear_model\\_ridge.py:157: LinAlgWarning: Ill-conditioned matrix (rcond=8.57731e-19): result may not be accurate.\n",
      "  return linalg.solve(A, Xy, sym_pos=True, overwrite_a=True).T\n",
      "C:\\Users\\MAXIM\\AppData\\Local\\Programs\\Python\\Python310\\lib\\site-packages\\sklearn\\linear_model\\_ridge.py:157: LinAlgWarning: Ill-conditioned matrix (rcond=8.57867e-19): result may not be accurate.\n",
      "  return linalg.solve(A, Xy, sym_pos=True, overwrite_a=True).T\n",
      "C:\\Users\\MAXIM\\AppData\\Local\\Programs\\Python\\Python310\\lib\\site-packages\\sklearn\\linear_model\\_ridge.py:157: LinAlgWarning: Ill-conditioned matrix (rcond=8.5895e-19): result may not be accurate.\n",
      "  return linalg.solve(A, Xy, sym_pos=True, overwrite_a=True).T\n",
      "C:\\Users\\MAXIM\\AppData\\Local\\Programs\\Python\\Python310\\lib\\site-packages\\sklearn\\linear_model\\_ridge.py:157: LinAlgWarning: Ill-conditioned matrix (rcond=8.60303e-19): result may not be accurate.\n",
      "  return linalg.solve(A, Xy, sym_pos=True, overwrite_a=True).T\n",
      "C:\\Users\\MAXIM\\AppData\\Local\\Programs\\Python\\Python310\\lib\\site-packages\\sklearn\\linear_model\\_ridge.py:157: LinAlgWarning: Ill-conditioned matrix (rcond=8.84669e-19): result may not be accurate.\n",
      "  return linalg.solve(A, Xy, sym_pos=True, overwrite_a=True).T\n"
     ]
    }
   ],
   "source": [
    "print(mean_sq_error)\n",
    "\n",
    "for i in range(len(alpha_list)):\n",
    "    model = Ridge(alpha=alpha_list[i])\n",
    "    model.fit(X_train, y_train)\n",
    "    y_pred = model.predict(X_test)\n",
    "    \n",
    "    print(\"Ridge(alpha=%a)\" % alpha_list[i])\n",
    "    print('r2_score =', r2_score(y_test, y_pred))\n",
    "    print('mean squared error =', mean_squared_error(y_test, y_pred))\n",
    "    print()"
   ]
  },
  {
   "cell_type": "markdown",
   "id": "ccdd6886-351f-4c64-ad27-d17d2ddb82db",
   "metadata": {},
   "source": [
    "Порівняно зі звичайною лінійною регресією, не можна сказати, що нам вдалося достатньо сильно зменшити дисперсію за допомого цього методу, хоча дисперсія, звичайно, зменшилася в четвертому знаку. "
   ]
  },
  {
   "cell_type": "markdown",
   "id": "09e544e8-c062-47df-8fae-a790aaeafd35",
   "metadata": {},
   "source": [
    "#### Нелінійна регресія "
   ]
  },
  {
   "cell_type": "markdown",
   "id": "dfdc6c90-7e92-4ad3-8117-c9ea4aa3dbaa",
   "metadata": {},
   "source": [
    "Враховуючи все побачене до цього, складно очікувати кращого кращого резльтату, адже за змістом даних складно очікувати залежність більшого порядку. До того ж ми вже маємо майже неперевершений результат $R^2 = 0.9998$, проте можливо за допомогою нелінійності ми зможемо зменшити дисперсію:"
   ]
  },
  {
   "cell_type": "code",
   "execution_count": 49,
   "id": "4db08ca0-c1df-49b3-bcca-53e30cde5421",
   "metadata": {},
   "outputs": [
    {
     "name": "stdout",
     "output_type": "stream",
     "text": [
      "2124119007285158.5\n",
      "PolynomialFeatures(degree=2)\n",
      "r2_score = 0.999946406314001\n",
      "mean squared error = 624593756609100.2\n",
      "\n"
     ]
    }
   ],
   "source": [
    "# https://scikit-learn.org/stable/modules/generated/sklearn.preprocessing.PolynomialFeatures.html\n",
    "from sklearn.preprocessing import PolynomialFeatures\n",
    "\n",
    "# будемо розглядати квадратичні поліноми від даних\n",
    "polynomial_2 = PolynomialFeatures(degree=2)\n",
    "X_train_p = polynomial_2.fit_transform(X_train)\n",
    "X_test_p = polynomial_2.fit_transform(X_test)\n",
    "\n",
    "model = LinearRegression()\n",
    "model.fit(X_train_p, y_train)\n",
    "y_pred_p = model.predict(X_test_p)\n",
    "\n",
    "print(mean_sq_error)\n",
    "\n",
    "print(\"PolynomialFeatures(degree=2)\")\n",
    "print('r2_score =', r2_score(y_test, y_pred_p))\n",
    "mean_sq_error_p = mean_squared_error(y_test, y_pred_p)\n",
    "print('mean squared error =', mean_sq_error_p)\n",
    "print()"
   ]
  },
  {
   "cell_type": "markdown",
   "id": "2414081a-48e7-473c-9648-4fc77b034d70",
   "metadata": {},
   "source": [
    "Можна бачити, що ми насправді покращили обидва параметри: $R^2$ став ще більшим (але для наших величин $R^2$ це несуттєво), а дисперсія зменшилася майже вдвічі. Цей метод виявився найбільш ефективним (що й не дивно, адже він не створює додаткових обмежень, як інші методи. "
   ]
  },
  {
   "cell_type": "markdown",
   "id": "3ccbc702-8445-40cf-80f5-f54f478bd44e",
   "metadata": {},
   "source": [
    "Для повноти картини подивимося, чи можна досягнути набагато кращого результату для поліномів 3го степеня:"
   ]
  },
  {
   "cell_type": "code",
   "execution_count": 59,
   "id": "8d12305c-1a9c-4cca-8586-cc9f96cc0eef",
   "metadata": {},
   "outputs": [
    {
     "name": "stdout",
     "output_type": "stream",
     "text": [
      "2124119007285158.5\n",
      "624593756609100.2\n",
      "\n",
      "PolynomialFeatures(degree=3)\n",
      "r2_score = 0.9858486346907558\n",
      "mean squared error = 1.6492342810326054e+17\n",
      "\n"
     ]
    }
   ],
   "source": [
    "# https://scikit-learn.org/stable/modules/generated/sklearn.preprocessing.PolynomialFeatures.html\n",
    "from sklearn.preprocessing import PolynomialFeatures\n",
    "\n",
    "# будемо розглядати кубічні поліноми від даних\n",
    "polynomial_3 = PolynomialFeatures(degree=3)\n",
    "X_train_p_1 = polynomial_3.fit_transform(X_train)\n",
    "X_test_p_1 = polynomial_3.fit_transform(X_test)\n",
    "\n",
    "model = LinearRegression()\n",
    "model.fit(X_train_p_1, y_train)\n",
    "y_pred_p_1 = model.predict(X_test_p_1)\n",
    "\n",
    "print(mean_sq_error)\n",
    "print(mean_sq_error_p)\n",
    "print()\n",
    "print(\"PolynomialFeatures(degree=3)\")\n",
    "print('r2_score =', r2_score(y_test, y_pred_p_1))\n",
    "print('mean squared error =', mean_squared_error(y_test, y_pred_p_1))\n",
    "print()"
   ]
  },
  {
   "cell_type": "markdown",
   "id": "bfb58851-2f83-4c71-b5a5-7fa071d4b65f",
   "metadata": {},
   "source": [
    "Неочікувано, всі параметри значно погіршилися, як $R^2$ так і дисперсія."
   ]
  },
  {
   "cell_type": "code",
   "execution_count": null,
   "id": "c5aedae5-e69f-4a85-bc41-8f88e3f53d58",
   "metadata": {},
   "outputs": [],
   "source": []
  },
  {
   "cell_type": "code",
   "execution_count": null,
   "id": "bf5d837b-dd82-4e61-ab95-ab66bde455e1",
   "metadata": {},
   "outputs": [],
   "source": []
  },
  {
   "cell_type": "code",
   "execution_count": null,
   "id": "b531f44e-afbc-4030-97b7-894649b50686",
   "metadata": {},
   "outputs": [],
   "source": []
  },
  {
   "cell_type": "code",
   "execution_count": null,
   "id": "cbf5e9a9-d61e-4525-a426-66e2f78396bf",
   "metadata": {},
   "outputs": [],
   "source": []
  },
  {
   "cell_type": "code",
   "execution_count": null,
   "id": "59dcd9f5-5ad5-46fe-9218-f4ae35b7ee97",
   "metadata": {},
   "outputs": [],
   "source": []
  },
  {
   "cell_type": "code",
   "execution_count": null,
   "id": "d3c32ee8-efb6-4a8d-9a1c-de59ebd1f24f",
   "metadata": {},
   "outputs": [],
   "source": []
  },
  {
   "cell_type": "code",
   "execution_count": null,
   "id": "a5e38808-7e91-40f2-84da-5a18db6e257d",
   "metadata": {},
   "outputs": [],
   "source": []
  },
  {
   "cell_type": "code",
   "execution_count": null,
   "id": "64368f0f-da83-473e-8d00-236b23f973c6",
   "metadata": {},
   "outputs": [],
   "source": []
  },
  {
   "cell_type": "code",
   "execution_count": 80,
   "id": "b60693fc-7c4f-4bfd-b181-409ba2f41091",
   "metadata": {},
   "outputs": [
    {
     "name": "stdout",
     "output_type": "stream",
     "text": [
      "Feature 0: 20.751003\n",
      "Feature 1: 20.731774\n",
      "Feature 2: 5.132674\n",
      "Feature 3: 51.393553\n",
      "Feature 4: 3.224366\n"
     ]
    }
   ],
   "source": [
    "# https://www.journaldev.com/45109/normalize-data-in-python\n",
    "    \n",
    "from sklearn.preprocessing import normalize\n",
    "X_train_n = normalize(X_train)\n",
    "X_test_n = normalize(X_train)\n",
    "y_train_n = (y_train - np.mean(y_train))/(np.std(y_train))\n",
    "\n",
    "\n",
    "fs_1 = SelectKBest(f_regression, k=2)\n",
    "fs_1.fit(X_train_n, y_train_n)\n",
    "X_train_fs = fs_1.transform(X_train_n)\n",
    "X_test_fs = fs_1.transform(X_test_n)\n",
    "\n",
    "for i in range(len(fs_1.scores_)):\n",
    "\tprint('Feature %d: %f' % (i, fs_1.scores_[i]))"
   ]
  },
  {
   "cell_type": "code",
   "execution_count": 55,
   "id": "522c0c2f-45c2-4b23-afa0-387070218f04",
   "metadata": {},
   "outputs": [
    {
     "ename": "NameError",
     "evalue": "name 'x_train' is not defined",
     "output_type": "error",
     "traceback": [
      "\u001b[1;31m---------------------------------------------------------------------------\u001b[0m",
      "\u001b[1;31mNameError\u001b[0m                                 Traceback (most recent call last)",
      "Input \u001b[1;32mIn [55]\u001b[0m, in \u001b[0;36m<cell line: 10>\u001b[1;34m()\u001b[0m\n\u001b[0;32m     14\u001b[0m metrics \u001b[38;5;241m=\u001b[39m []\n\u001b[0;32m     15\u001b[0m \u001b[38;5;28;01mfor\u001b[39;00m i \u001b[38;5;129;01min\u001b[39;00m \u001b[38;5;28mrange\u001b[39m(\u001b[38;5;241m5\u001b[39m):\n\u001b[1;32m---> 16\u001b[0m     x_tr, x_val, y_tr, y_val \u001b[38;5;241m=\u001b[39m train_test_split(\u001b[43mx_train\u001b[49m, y_train, shuffle\u001b[38;5;241m=\u001b[39m\u001b[38;5;241m1\u001b[39m, test_size\u001b[38;5;241m=\u001b[39m\u001b[38;5;241m0.3\u001b[39m)\n\u001b[0;32m     18\u001b[0m     model\u001b[38;5;241m.\u001b[39mfit(x_tr, y_tr)\n\u001b[0;32m     20\u001b[0m     y_tr_pred \u001b[38;5;241m=\u001b[39m model\u001b[38;5;241m.\u001b[39mpredict(x_tr)\n",
      "\u001b[1;31mNameError\u001b[0m: name 'x_train' is not defined"
     ]
    }
   ],
   "source": [
    "# https://colab.research.google.com/drive/1s5HOXulJzZX-fca0ODdj1xrVPyTBtIim#scrollTo=4fa79f93\n",
    "from sklearn.metrics import accuracy_score, f1_score, precision_score, recall_score\n",
    "from sklearn.model_selection import train_test_split\n",
    "\n",
    "from sklearn.linear_model import LogisticRegression\n",
    "from sklearn.naive_bayes import GaussianNB\n",
    "\n",
    "metrics_model = []\n",
    "all_models = []\n",
    "for model_name, model in [('logistic(C=1)', LogisticRegression()), \n",
    "                         ('logistic(C=2)', LogisticRegression(C=2)),\n",
    "                         ('GaussianNB', GaussianNB())\n",
    "                         ]:\n",
    "    metrics = []\n",
    "    for i in range(5):\n",
    "        x_tr, x_val, y_tr, y_val = train_test_split(x_train, y_train, shuffle=1, test_size=0.3)\n",
    "        \n",
    "        model.fit(x_tr, y_tr)\n",
    "        \n",
    "        y_tr_pred = model.predict(x_tr)\n",
    "        metric = {}\n",
    "        metric['train_f1'] = f1_score(y_tr, y_tr_pred)\n",
    "        metric['train_precision'] = precision_score(y_tr, y_tr_pred)\n",
    "        metric['train_recall'] = recall_score(y_tr, y_tr_pred)\n",
    "        \n",
    "        y_val_pred = model.predict(x_val)\n",
    "        metric['test_f1'] = f1_score(y_val, y_val_pred)\n",
    "        metric['test_precision'] = precision_score(y_val, y_val_pred)\n",
    "        metric['test_recall'] = recall_score(y_val, y_val_pred)\n",
    "        \n",
    "        metrics.append(metric)\n",
    "        \n",
    "        all_models.append(model)\n",
    "    \n",
    "    model_avg = pd.DataFrame(metrics).mean()\n",
    "    model_avg['model'] = model_name\n",
    "    metrics_model.append(model_avg)"
   ]
  },
  {
   "cell_type": "code",
   "execution_count": null,
   "id": "06c8dbbb-3eaa-4dca-922e-7600b25d99ca",
   "metadata": {},
   "outputs": [],
   "source": [
    "from sklearn.pipeline import make_pipeline\n",
    "from sklearn.preprocessing import StandardScaler\n",
    "regressor = make_pipeline(StandardScaler(with_mean=False), LinearRegression())\n",
    "\n",
    "regressor.fit(X_train, y_train)\n",
    "\n",
    "y_pred = regressor.predict(X_test)\n",
    "\n",
    "regressor.score(y_pred, y_test)\n",
    "print(regressor.coef_)"
   ]
  },
  {
   "cell_type": "code",
   "execution_count": null,
   "id": "9093a1df-8408-4491-bc4c-e7f612d9a30e",
   "metadata": {},
   "outputs": [],
   "source": [
    "from sklearn.linear_model import RidgeCV\n",
    "from sklearn.model_selection import RepeatedKFold\n",
    "\n",
    "cv = RepeatedKFold(n_splits=10, n_repeats=3, random_state=1)\n",
    "model = RidgeCV(alphas=np.arange(0, 1, 0.01), cv=cv, scoring='neg_mean_absolute_error')\n",
    "model.fit(X_train, y_train)\n",
    "print('alpha: %f' % model.alpha_)"
   ]
  }
 ],
 "metadata": {
  "kernelspec": {
   "display_name": "Python 3 (ipykernel)",
   "language": "python",
   "name": "python3"
  },
  "language_info": {
   "codemirror_mode": {
    "name": "ipython",
    "version": 3
   },
   "file_extension": ".py",
   "mimetype": "text/x-python",
   "name": "python",
   "nbconvert_exporter": "python",
   "pygments_lexer": "ipython3",
   "version": "3.10.4"
  }
 },
 "nbformat": 4,
 "nbformat_minor": 5
}
